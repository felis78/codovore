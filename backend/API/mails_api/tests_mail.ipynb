{
 "cells": [
  {
   "cell_type": "code",
   "execution_count": 2,
   "id": "ddedd28f-7703-4909-80bb-6d5d07fed68e",
   "metadata": {
    "tags": []
   },
   "outputs": [
    {
     "ename": "SMTPSenderRefused",
     "evalue": "(530, b'5.7.1 Authentication required', 'contact@codovore.fr')",
     "output_type": "error",
     "traceback": [
      "\u001b[0;31m---------------------------------------------------------------------------\u001b[0m",
      "\u001b[0;31mSMTPSenderRefused\u001b[0m                         Traceback (most recent call last)",
      "Cell \u001b[0;32mIn[2], line 19\u001b[0m\n\u001b[1;32m     17\u001b[0m \u001b[38;5;66;03m# Send the message via our own SMTP server.\u001b[39;00m\n\u001b[1;32m     18\u001b[0m s \u001b[38;5;241m=\u001b[39m smtplib\u001b[38;5;241m.\u001b[39mSMTP(\u001b[38;5;124m'\u001b[39m\u001b[38;5;124mmail.infomaniak.com\u001b[39m\u001b[38;5;124m'\u001b[39m)\n\u001b[0;32m---> 19\u001b[0m s\u001b[38;5;241m.\u001b[39msend_message(msg)\n\u001b[1;32m     20\u001b[0m s\u001b[38;5;241m.\u001b[39mquit()\n",
      "File \u001b[0;32m~/anaconda3/lib/python3.11/smtplib.py:986\u001b[0m, in \u001b[0;36mSMTP.send_message\u001b[0;34m(self, msg, from_addr, to_addrs, mail_options, rcpt_options)\u001b[0m\n\u001b[1;32m    984\u001b[0m     g\u001b[38;5;241m.\u001b[39mflatten(msg_copy, linesep\u001b[38;5;241m=\u001b[39m\u001b[38;5;124m'\u001b[39m\u001b[38;5;130;01m\\r\u001b[39;00m\u001b[38;5;130;01m\\n\u001b[39;00m\u001b[38;5;124m'\u001b[39m)\n\u001b[1;32m    985\u001b[0m     flatmsg \u001b[38;5;241m=\u001b[39m bytesmsg\u001b[38;5;241m.\u001b[39mgetvalue()\n\u001b[0;32m--> 986\u001b[0m \u001b[38;5;28;01mreturn\u001b[39;00m \u001b[38;5;28mself\u001b[39m\u001b[38;5;241m.\u001b[39msendmail(from_addr, to_addrs, flatmsg, mail_options,\n\u001b[1;32m    987\u001b[0m                      rcpt_options)\n",
      "File \u001b[0;32m~/anaconda3/lib/python3.11/smtplib.py:887\u001b[0m, in \u001b[0;36mSMTP.sendmail\u001b[0;34m(self, from_addr, to_addrs, msg, mail_options, rcpt_options)\u001b[0m\n\u001b[1;32m    885\u001b[0m     \u001b[38;5;28;01melse\u001b[39;00m:\n\u001b[1;32m    886\u001b[0m         \u001b[38;5;28mself\u001b[39m\u001b[38;5;241m.\u001b[39m_rset()\n\u001b[0;32m--> 887\u001b[0m     \u001b[38;5;28;01mraise\u001b[39;00m SMTPSenderRefused(code, resp, from_addr)\n\u001b[1;32m    888\u001b[0m senderrs \u001b[38;5;241m=\u001b[39m {}\n\u001b[1;32m    889\u001b[0m \u001b[38;5;28;01mif\u001b[39;00m \u001b[38;5;28misinstance\u001b[39m(to_addrs, \u001b[38;5;28mstr\u001b[39m):\n",
      "\u001b[0;31mSMTPSenderRefused\u001b[0m: (530, b'5.7.1 Authentication required', 'contact@codovore.fr')"
     ]
    }
   ],
   "source": [
    "# Import smtplib for the actual sending function\n",
    "import smtplib\n",
    "\n",
    "# Import the email modules we'll need\n",
    "from email.message import EmailMessage\n",
    "\n",
    "\n",
    "msg = EmailMessage()\n",
    "msg.set_content(\"salut l'admin\")\n",
    "\n",
    "# me == the sender's email address\n",
    "# you == the recipient's email address\n",
    "msg['Subject'] = 'un test'\n",
    "msg['From'] = \"contact@codovore.fr\"\n",
    "msg['To'] = \"admin.contact@codovore.fr\"\n",
    "\n",
    "# Send the message via our own SMTP server.\n",
    "s = smtplib.SMTP('mail.infomaniak.com')\n",
    "s.send_message(msg)\n",
    "s.quit()"
   ]
  },
  {
   "cell_type": "code",
   "execution_count": 2,
   "id": "9a1e6d1d-dbd5-4b6a-8b9e-081795198c6f",
   "metadata": {},
   "outputs": [
    {
     "name": "stdout",
     "output_type": "stream",
     "text": [
      "Message sent!\n"
     ]
    }
   ],
   "source": [
    "import smtplib\n",
    "from email.mime.text import MIMEText\n",
    "\n",
    "subject = \"Email Subject\"\n",
    "body = \"This is the body of the text message\"\n",
    "sender = \"contact@codovore.fr\"\n",
    "recipients = [\"contact.admin@codovore.fr\"]\n",
    "password = \"&Anapurna01\"\n",
    "\n",
    "\n",
    "def send_email(subject, body, sender, recipients, password):\n",
    "    msg = MIMEText(body)\n",
    "    msg['Subject'] = subject\n",
    "    msg['From'] = sender\n",
    "    msg['To'] = ', '.join(recipients)\n",
    "    with smtplib.SMTP_SSL('mail.infomaniak.com', 465) as smtp_server:\n",
    "       smtp_server.login(sender, password)\n",
    "       smtp_server.sendmail(sender, recipients, msg.as_string())\n",
    "    print(\"Message sent!\")\n",
    "\n",
    "\n",
    "send_email(subject, body, sender, recipients, password)"
   ]
  },
  {
   "cell_type": "code",
   "execution_count": null,
   "id": "6d6e9ab5-0467-43ff-891f-67e46918cb17",
   "metadata": {},
   "outputs": [],
   "source": []
  }
 ],
 "metadata": {
  "kernelspec": {
   "display_name": "Python 3 (ipykernel)",
   "language": "python",
   "name": "python3"
  },
  "language_info": {
   "codemirror_mode": {
    "name": "ipython",
    "version": 3
   },
   "file_extension": ".py",
   "mimetype": "text/x-python",
   "name": "python",
   "nbconvert_exporter": "python",
   "pygments_lexer": "ipython3",
   "version": "3.11.4"
  }
 },
 "nbformat": 4,
 "nbformat_minor": 5
}
